{
  "cells": [
    {
      "attachments": {},
      "cell_type": "markdown",
      "metadata": {
        "colab_type": "text",
        "id": "view-in-github"
      },
      "source": [
        "<a href=\"https://colab.research.google.com/github/Buddhi19/InteractiveAssignments/blob/main/Signals%20and%20Systems%20Assignment1.ipynb\" target=\"_parent\"><img src=\"https://colab.research.google.com/assets/colab-badge.svg\" alt=\"Open In Colab\"/></a>"
      ]
    },
    {
      "attachments": {},
      "cell_type": "markdown",
      "metadata": {
        "id": "UuEt_FjRaSUf"
      },
      "source": [
        "# **Assignment 1**\n",
        "## **Signals and Systems**\n",
        "### W.M.B.S.K. Wijenayake\n",
        "### E/19/445"
      ]
    },
    {
      "attachments": {},
      "cell_type": "markdown",
      "metadata": {
        "id": "nb8wjk2mFuRk"
      },
      "source": [
        "## *Libraries*"
      ]
    },
    {
      "cell_type": "code",
      "execution_count": 133,
      "metadata": {
        "id": "fBa_PSllFy6C"
      },
      "outputs": [],
      "source": [
        "import numpy as np\n",
        "import matplotlib.pyplot as plt\n",
        "from sympy import *\n",
        "from scipy import signal\n",
        "from matplotlib import style"
      ]
    },
    {
      "cell_type": "code",
      "execution_count": 134,
      "metadata": {
        "id": "8gQwSvoIGoNf"
      },
      "outputs": [],
      "source": [
        "class buddhi_waves:\n",
        "  def enlarged_impulse_1(self):\n",
        "    plt.figure(figsize=(6, 4))\n",
        "    y_values=[0,0,1,1,1,0,0]\n",
        "    x_values=[-2,-1,-1,0,1,1,2]\n",
        "    plt.plot(x_values,y_values)\n",
        "    plt.ylim(-0.2,2)\n",
        "    plt.axhline(y=0, color='black',linewidth = 0.5)\n",
        "    plt.axvline(x=0, color='black',linewidth = 0.5)\n",
        "    plt.xlabel(\"time\")\n",
        "    plt.title(\"$\\delta(t)$\")\n",
        "    y_labels=[0,0,\"1/ $\\Delta$\",\"1/ $\\Delta$\",\"1/ $\\Delta$\",0,0]\n",
        "    labels=[\"-$\\Delta$\",\"-$\\Delta$/2\",\"-$\\Delta$/2\",\"0\",\"$\\Delta$/2\",\"$\\Delta$/2\",\"$\\Delta$\"]\n",
        "    plt.xticks(x_values,labels,rotation=\"horizontal\")\n",
        "    plt.yticks(y_values,y_labels,rotation=\"horizontal\")\n",
        "    plt.show()\n",
        "\n",
        "  def enlarged_impulse_2(self):\n",
        "    plt.figure(figsize=(6, 4))\n",
        "    y_values=[0,0,1,1,1,0,0]\n",
        "    x_values=[-2,-1/2,-1/2,0,1/2,1/2,2]\n",
        "    plt.plot(x_values,y_values)\n",
        "    plt.ylim(-0.2,2)\n",
        "    plt.axhline(y=0, color='black',linewidth = 0.5)\n",
        "    plt.axvline(x=0, color='black',linewidth = 0.5)\n",
        "    plt.xlabel(\"time\")\n",
        "    plt.title(\"$\\delta(t)$\")\n",
        "    y_labels=[0,0,\"1/ $\\Delta$\",\"1/ $\\Delta$\",\"1/ $\\Delta$\",0,0]\n",
        "    labels=[\"-$\\Delta$/2\",\"-$\\Delta$/4\",\"-$\\Delta$/4\",\"0\",\"$\\Delta$/4\",\"$\\Delta$/4\",\"$\\Delta$/2\"]\n",
        "    plt.xticks(x_values,labels,rotation=\"horizontal\")\n",
        "    plt.yticks(y_values,y_labels,rotation=\"horizontal\")\n",
        "    plt.show()\n",
        "\n",
        "  def question_3_xt(self,shift):\n",
        "    plt.figure(figsize=(6, 4))\n",
        "    y_values=[0,0,1,1,1,0,0]\n",
        "    arr=[-2,-1,-1,0,1,1,2]\n",
        "    x_values=[(t-shift) for t in arr]\n",
        "    plt.plot(x_values,y_values)\n",
        "    plt.ylim(-0.2,2)\n",
        "    plt.axhline(y=0, color='black',linewidth = 0.5)\n",
        "    plt.axvline(x=0, color='black',linewidth = 0.5)\n",
        "    plt.xlabel(\"time\")\n",
        "    plt.title(\"$x(t)$\")\n",
        "    labels=[\"-2T\",\"-T\",\"-T\",\"0\",\"T\",\"T\",\"2T\"]\n",
        "    y_labels=[0,0,1,1,1,0,0]\n",
        "    plt.yticks(y_values,y_labels,rotation=\"horizontal\")\n",
        "    plt.xticks(arr,labels,rotation=\"horizontal\")\n",
        "    plt.show()\n",
        "\n",
        "\n",
        "  def question_3_ht(self,shift):\n",
        "    plt.figure(figsize=(6, 4))\n",
        "    y_values=[0,0,1,1,1,1,1,0,0]\n",
        "    arr=[-3,-2,-2,-1,0,1,2,2,3]\n",
        "    x_values=[(t-shift) for t in arr]\n",
        "    plt.plot(x_values,y_values)\n",
        "    plt.ylim(-0.2,2)\n",
        "    plt.axhline(y=0, color='black',linewidth = 0.5)\n",
        "    plt.axvline(x=0, color='black',linewidth = 0.5)\n",
        "    plt.xlabel(\"time\")\n",
        "    plt.title(\"$h(t)$\")\n",
        "    labels=[\"-3T\",\"-2T\",\"-2T\",\"-T\",\"0\",\"T\",\"2T\",\"2T\",\"3T\"]\n",
        "    y_labels=[0,0,1,1,1,1,1,0,0]\n",
        "    plt.yticks(y_values,y_labels,rotation=\"horizontal\")\n",
        "    plt.xticks(arr,labels,rotation=\"horizontal\")\n",
        "    plt.show()\n",
        "\n",
        "  def question_3_convolution(self,shift):\n",
        "    plt.figure(figsize=(6, 4))\n",
        "    y_values=[0,0,0,0,1,1,1,1,1,0,0,0,0]\n",
        "    arr=[-5,-4,-3,-2,-2,-1,0,1,2,2,3,4,5]\n",
        "\n",
        "    y_values_for_x=[0,0,0,0,0,1,1,1,0,0,0,0,0]\n",
        "    arr_x=[-5,-4,-3,-2,-1,-1,0,1,1,2,3,4,5]\n",
        "\n",
        "    x_x_values=[(t-shift) for t in arr_x]\n",
        "\n",
        "    plt.plot(arr,y_values)\n",
        "    plt.plot(x_x_values,y_values_for_x)\n",
        "    plt.ylim(-0.2,2)\n",
        "    plt.axhline(y=0, color='black',linewidth = 0.5)\n",
        "    plt.axvline(x=0, color='black',linewidth = 0.5)\n",
        "    plt.xlabel(\"time\")\n",
        "    plt.title(\"convolution\")\n",
        "    labels=[\"-5T\",\"-4T\",\"-3T\",\"-2T\",\"-2T\",\"-T\",\"0\",\"T\",\"2T\",\"2T\",\"3T\",\"4T\",\"5T\"]\n",
        "    y_labels=[0,0,0,0,1,1,1,1,1,0,0,0,0]\n",
        "    plt.yticks(y_values,y_labels,rotation=\"horizontal\")\n",
        "    plt.xticks(arr,labels,rotation=\"horizontal\")\n",
        "    plt.show()\n",
        "\n",
        "  def impulse(self):\n",
        "    plt.figure(figsize=(6, 4))\n",
        "    y_values=[0,0,0,0,10,0,0,0,0]\n",
        "    arr=[-3,-2,-2,0,0,0,2,2,3]\n",
        "    plt.plot(arr,y_values)\n",
        "    plt.ylim(-0.2,2)\n",
        "    plt.axhline(y=0, color='black',linewidth = 0.5)\n",
        "    plt.axvline(x=0, color='black',linewidth = 0.5)\n",
        "    plt.xlabel(\"time\")\n",
        "    plt.title(\"$\\delta(t)$\")\n",
        "    plt.show()\n",
        "\n",
        "buddhi=buddhi_waves()"
      ]
    },
    {
      "attachments": {},
      "cell_type": "markdown",
      "metadata": {
        "id": "kc_uEk1bhf5L"
      },
      "source": [
        "\n",
        "\n",
        "## 1. Question 1.a\n",
        "\n"
      ]
    },
    {
      "cell_type": "code",
      "execution_count": 135,
      "metadata": {
        "colab": {
          "base_uri": "https://localhost:8080/",
          "height": 413
        },
        "id": "1fFS2QSMN3VZ",
        "outputId": "183f766b-04e1-4144-8240-89228b5ecf19"
      },
      "outputs": [
        {
          "data": {
            "image/png": "[encoded data removed]",
            "text/plain": [
              "<Figure size 600x400 with 1 Axes>"
            ]
          },
          "metadata": {},
          "output_type": "display_data"
        }
      ],
      "source": [
        "# Generating enlarge impulse\n",
        "buddhi.enlarged_impulse_1()"
      ]
    },
    {
      "attachments": {},
      "cell_type": "markdown",
      "metadata": {
        "id": "44t2cVArAcQ5"
      },
      "source": [
        "\\begin{align}\n",
        "\\int_{\\infty}^{∞}\\delta(t)&=\\int_{\\infty}^{∞}[\\lim_{\\Delta \\to\\ 0}\\delta_{\\Delta}(t)]dt\\\\\n",
        "\\\n",
        "&=\\lim_{\\Delta \\to\\ 0}\\int_{\\infty}^{∞}\\delta_{\\Delta}(t)dt\\\\\n",
        "&=\\lim_{\\Delta \\to\\ 0}[\\frac{1}{\\Delta}\\times\\Delta]\\\\\n",
        "&=\\lim_{\\Delta \\to\\ 0} 1\\\\\n",
        "&=1\n",
        "\\end{align}"
      ]
    },
    {
      "cell_type": "code",
      "execution_count": 136,
      "metadata": {
        "colab": {
          "base_uri": "https://localhost:8080/",
          "height": 413
        },
        "id": "x5dVow_DN-lx",
        "outputId": "56a92f14-70af-4e45-b318-230c9514317f"
      },
      "outputs": [
        {
          "data": {
            "image/png": "[encoded data removed]",
            "text/plain": [
              "<Figure size 600x400 with 1 Axes>"
            ]
          },
          "metadata": {},
          "output_type": "display_data"
        }
      ],
      "source": [
        "#Genrating same impulse with scaling\n",
        "buddhi.enlarged_impulse_2()"
      ]
    },
    {
      "attachments": {},
      "cell_type": "markdown",
      "metadata": {
        "id": "GGSD0r2XBmSm"
      },
      "source": [
        "\\begin{align}\n",
        "\\int_{\\infty}^{∞}\\delta(2t)&=\\int_{\\infty}^{∞}[\\lim_{\\Delta \\to\\ 0}\\delta_{\\Delta}(2t)]dt\\\\\n",
        "\\\n",
        "&=\\lim_{\\Delta \\to\\ 0}\\int_{\\infty}^{∞}\\delta_{\\Delta}(2t)dt\\\\\n",
        "&=\\lim_{\\Delta \\to\\ 0}[\\frac{1}{\\Delta}\\times\\frac{\\Delta}{2}]\\\\\n",
        "&=\\lim_{\\Delta \\to\\ 0} \\frac{1}{2}\\\\\n",
        "&=\\frac{1}{2}\n",
        "\\end{align}"
      ]
    },
    {
      "attachments": {},
      "cell_type": "markdown",
      "metadata": {
        "id": "D_QVTejLB5if"
      },
      "source": [
        "Thus, \n",
        "\\begin{align}\n",
        "\\int_{\\infty}^{∞}\\delta(t)&=2\\times \\int_{\\infty}^{∞}\\delta(2t)\\\\\n",
        "\\int_{\\infty}^{∞}\\delta(t)&=\\int_{\\infty}^{∞}2\\delta(2t)\\\\\n",
        "\\delta(t)&=2\\delta(2t)\n",
        "\\end{align}"
      ]
    },
    {
      "attachments": {},
      "cell_type": "markdown",
      "metadata": {
        "id": "_ufIa6w5CaZp"
      },
      "source": [
        "### Question 1.b"
      ]
    },
    {
      "attachments": {},
      "cell_type": "markdown",
      "metadata": {
        "id": "dRruxjOdCj5u"
      },
      "source": [
        "\\begin{align}\n",
        "x(t)=\\sum_{n\\:\\:-\\infty}^{\\infty}e^{-(2t-n)}\n",
        "\\end{align}\n",
        "Consider for $T\\in \\mathbb{R}$,\n",
        "\\begin{align}\n",
        "x(t)&=x(t+T)\\\\\n",
        "\\sum_{n\\:\\:-\\infty}^{\\infty}e^{-(2t-n)}&=\\sum_{n\\:\\:-\\infty}^{\\infty}e^{-(2(t+T)-n)}\\\\\n",
        "e^{-(2t-n)}&=e^{-(2(t+T)-n)}\\\\\n",
        "e^{2T}&=\\frac{e^{-2t}}{e^{-2t}}\\\\\n",
        "e^{2T}&=1\n",
        "\\end{align}\n",
        "This only has solutions when $T=0$. Thus the signal $x(t)$ is not periodic."
      ]
    },
    {
      "attachments": {},
      "cell_type": "markdown",
      "metadata": {
        "id": "cOujnC2nE88Q"
      },
      "source": [
        "## 2. Question 3"
      ]
    },
    {
      "attachments": {},
      "cell_type": "markdown",
      "metadata": {
        "id": "DkvbiWYJFIDC"
      },
      "source": [
        "\\begin{align}\n",
        "y(t)&= x(t) \\ast h(t)\\\\\n",
        "\\end{align}\n",
        "Using the property.\n",
        "\\begin{align}\n",
        "y(t)&= h(t) \\ast x(t)\\\\\n",
        "&=\\int_{-∞}^{∞}h(\\tau)x(t-\\tau)d\\tau\n",
        "\\end{align}"
      ]
    },
    {
      "cell_type": "code",
      "execution_count": 137,
      "metadata": {
        "colab": {
          "base_uri": "https://localhost:8080/",
          "height": 412
        },
        "id": "sSfqM__DGFA-",
        "outputId": "3fd87f18-985f-49b5-dab8-7deaf846961c"
      },
      "outputs": [
        {
          "data": {
            "image/png": "[encoded data removed]",
            "text/plain": [
              "<Figure size 600x400 with 1 Axes>"
            ]
          },
          "metadata": {},
          "output_type": "display_data"
        }
      ],
      "source": [
        "#vishualizing x(t)\n",
        "buddhi.question_3_xt(0)\n"
      ]
    },
    {
      "cell_type": "code",
      "execution_count": 138,
      "metadata": {
        "colab": {
          "base_uri": "https://localhost:8080/",
          "height": 412
        },
        "id": "7Kcp2KfGTiWq",
        "outputId": "554b668b-f1d2-4978-ad56-f35873657596"
      },
      "outputs": [
        {
          "data": {
            "image/png": "[encoded data removed]",
            "text/plain": [
              "<Figure size 600x400 with 1 Axes>"
            ]
          },
          "metadata": {},
          "output_type": "display_data"
        }
      ],
      "source": [
        "#vishualizing h(t)\n",
        "buddhi.question_3_ht(0)"
      ]
    },
    {
      "cell_type": "code",
      "execution_count": 139,
      "metadata": {
        "colab": {
          "base_uri": "https://localhost:8080/",
          "height": 410
        },
        "id": "gwaVMKp8GZGO",
        "outputId": "39b8b60f-8aed-4f8b-ed36-9883b7c12e91"
      },
      "outputs": [
        {
          "data": {
            "image/png": "[encoded data removed]",
            "text/plain": [
              "<Figure size 600x400 with 1 Axes>"
            ]
          },
          "metadata": {},
          "output_type": "display_data"
        }
      ],
      "source": [
        "buddhi.question_3_convolution(4)"
      ]
    },
    {
      "attachments": {},
      "cell_type": "markdown",
      "metadata": {
        "id": "9QXWFM7oGKdj"
      },
      "source": [
        "When $t<-3T$,\n",
        "\\begin{align}\n",
        "y(t)=0\n",
        "\\end{align}"
      ]
    },
    {
      "cell_type": "code",
      "execution_count": 140,
      "metadata": {
        "colab": {
          "base_uri": "https://localhost:8080/",
          "height": 410
        },
        "id": "24FazMNOGblO",
        "outputId": "9f91a228-46e5-488b-e8c6-eb43a1e27abf"
      },
      "outputs": [
        {
          "data": {
            "image/png": "[encoded data removed]",
            "text/plain": [
              "<Figure size 600x400 with 1 Axes>"
            ]
          },
          "metadata": {},
          "output_type": "display_data"
        }
      ],
      "source": [
        "buddhi.question_3_convolution(2.5)"
      ]
    },
    {
      "attachments": {},
      "cell_type": "markdown",
      "metadata": {
        "id": "wxtlrReKGb-C"
      },
      "source": [
        "When $-3T\\leq t < -2T$,\n",
        "\\begin{align}\n",
        "y(t)&=\\int_{-2T}^{t+T} 1 d\\tau\\\\\n",
        "&=t+T-(-2T)\\\\\n",
        "&=t+3T\n",
        "\\end{align}"
      ]
    },
    {
      "cell_type": "code",
      "execution_count": 141,
      "metadata": {
        "colab": {
          "base_uri": "https://localhost:8080/",
          "height": 410
        },
        "id": "8t6ntG-cHhy-",
        "outputId": "089c589a-7d3f-4a8d-ffe8-15e64f3cf65a"
      },
      "outputs": [
        {
          "data": {
            "image/png": "[encoded data removed]",
            "text/plain": [
              "<Figure size 600x400 with 1 Axes>"
            ]
          },
          "metadata": {},
          "output_type": "display_data"
        }
      ],
      "source": [
        "buddhi.question_3_convolution(0)"
      ]
    },
    {
      "attachments": {},
      "cell_type": "markdown",
      "metadata": {
        "id": "tnKErLzAHndL"
      },
      "source": [
        "When $-2T \\leq t < 2T$,\n",
        "\\begin{align}\n",
        "y(t)&=1\n",
        "\\end{align}"
      ]
    },
    {
      "cell_type": "code",
      "execution_count": 142,
      "metadata": {
        "colab": {
          "base_uri": "https://localhost:8080/",
          "height": 410
        },
        "id": "cXhZKV0HH6Is",
        "outputId": "31ee9aeb-1783-4d1d-b4e2-b293d68b259d"
      },
      "outputs": [
        {
          "data": {
            "image/png": "[encoded data removed]",
            "text/plain": [
              "<Figure size 600x400 with 1 Axes>"
            ]
          },
          "metadata": {},
          "output_type": "display_data"
        }
      ],
      "source": [
        "buddhi.question_3_convolution(-2.5)"
      ]
    },
    {
      "attachments": {},
      "cell_type": "markdown",
      "metadata": {
        "id": "QWWgac4xH6iS"
      },
      "source": [
        "When $2T \\leq t< 3T $,\n",
        "\\begin{align}\n",
        "y(t)&=\\int_{t-T}^{2T} 1 d\\tau\\\\\n",
        "&=2T-(t-T)\\\\\n",
        "&=3T-t\n",
        "\\end{align}"
      ]
    },
    {
      "cell_type": "code",
      "execution_count": 143,
      "metadata": {
        "colab": {
          "base_uri": "https://localhost:8080/",
          "height": 410
        },
        "id": "dlyfAMP_ITqv",
        "outputId": "621c526f-1d4f-471d-83ba-08f0a1fcb7bb"
      },
      "outputs": [
        {
          "data": {
            "image/png": "[encoded data removed]",
            "text/plain": [
              "<Figure size 600x400 with 1 Axes>"
            ]
          },
          "metadata": {},
          "output_type": "display_data"
        }
      ],
      "source": [
        "buddhi.question_3_convolution(-4)"
      ]
    },
    {
      "attachments": {},
      "cell_type": "markdown",
      "metadata": {
        "id": "JOcwoG7tIUh9"
      },
      "source": [
        "When $3T \\leq t$,\n",
        "\\begin{align}\n",
        "y(t)=0\n",
        "\\end{align}\n",
        "Thus,\n",
        "\\begin{align}\n",
        "y(t)=\n",
        "\\begin{cases}\n",
        "0 \\:\\:& \\:\\:\\:\\:\\:\\:\\:\\:t \\leq -3T\\\\\n",
        "t+3T & -3T \\leq t \\leq -2T\\\\\n",
        "1 & -2T \\leq t \\leq 2T\\\\\n",
        "3T-t & \\:\\:\\:\\:2T \\leq t \\leq 3T\\\\\n",
        "0 \\:\\:& \\:\\:\\:\\:\\:\\:\\:\\:t \\geq 3T\\\\\n",
        "\\end{cases}\n",
        "\\end{align}"
      ]
    },
    {
      "attachments": {},
      "cell_type": "markdown",
      "metadata": {
        "id": "DbC7828uKqpr"
      },
      "source": [
        "## 3. Question 4"
      ]
    },
    {
      "attachments": {},
      "cell_type": "markdown",
      "metadata": {
        "id": "wFJvZ7hvK4qL"
      },
      "source": [
        "### Part 4.a"
      ]
    },
    {
      "attachments": {},
      "cell_type": "markdown",
      "metadata": {
        "id": "0V9AYB1kK92F"
      },
      "source": [
        "\\begin{align}\n",
        "x[n]&=\\alpha^n U[n]\\\\\n",
        "\\\\\n",
        "g[n]&=x[n]-\\alpha x[n-1]\\\\\n",
        "&=\\alpha^n U[n]-\\alpha \\times \\alpha^{n-1}U[n-1]\n",
        "\\end{align}\n",
        "for $n<0$,\n",
        "\\begin{align}\n",
        "g[n]&=0\n",
        "\\end{align}\n",
        "for $n=0$,\n",
        "\\begin{align}\n",
        "g[0]&=\\alpha^0 U[0]-\\alpha \\times \\alpha^{-1}U[-1]\\\\\n",
        "&=1\n",
        "\\end{align}\n",
        "for $n>0$,\n",
        "\\begin{align}\n",
        "g[n]&=\\alpha^n -\\alpha \\times \\alpha^{n-1}\\\\\n",
        "&=0\n",
        "\\end{align}\n",
        "\n",
        "Thus,\n",
        "\\begin{align}\n",
        "g[n]&=\\delta[n]\n",
        "\\end{align}"
      ]
    },
    {
      "cell_type": "code",
      "execution_count": 144,
      "metadata": {
        "colab": {
          "base_uri": "https://localhost:8080/",
          "height": 412
        },
        "id": "FcAYup1uXfLs",
        "outputId": "2d0e9618-07c5-4cbd-e058-16b608abb4d6"
      },
      "outputs": [
        {
          "data": {
            "image/png": "[encoded data removed]",
            "text/plain": [
              "<Figure size 600x400 with 1 Axes>"
            ]
          },
          "metadata": {},
          "output_type": "display_data"
        }
      ],
      "source": [
        "#Impulse\n",
        "buddhi.impulse()"
      ]
    },
    {
      "attachments": {},
      "cell_type": "markdown",
      "metadata": {
        "id": "3Cq_k3i9NS4T"
      },
      "source": [
        "### Part 4.b"
      ]
    },
    {
      "attachments": {},
      "cell_type": "markdown",
      "metadata": {
        "id": "rR6IdqmANarK"
      },
      "source": [
        "Consider,\n",
        "\\begin{align}\n",
        "U[n+2]-U[n-2]&=\\delta[n+2]+\\delta[n+1]+\\delta[n]+\\delta[n-1]\n",
        "\\end{align}\n",
        "Using Property,\n",
        "\\begin{align}\n",
        "x[n]\\delta(n-n_0)&=x[n_0]\\delta(n-n_0)\n",
        "\\end{align}\n",
        "Thus,\n",
        "\\begin{align}\n",
        "(\\frac{1}{2})^n \\delta(n+2)&=4\\delta (n+2)\\\\\n",
        "(\\frac{1}{2})^n \\delta(n+1)&=2\\delta (n+1)\\\\\n",
        "(\\frac{1}{2})^n \\delta(n)&=\\delta (n)\\\\\n",
        "(\\frac{1}{2})^n \\delta(n-1)&=\\frac{1}{2}\\delta (n-1)\\\\\n",
        "\\end{align}\n",
        "This yeilds,\n",
        "\\begin{align}\n",
        "x[n] \\ast h[n]=4\\delta (n+2)+2\\delta (n+1)+\\delta (n)+\\frac{1}{2}\\delta (n-1)\n",
        "\\end{align}\n",
        "Using answer in part a,\n",
        "\\begin{align}\n",
        "\\delta (n)&=x[n]-\\alpha x[n-1]\\\\\n",
        "\\delta (n-n_0)&=x[n-n_0]-\\alpha x[n-n_0-1]\\\\\n",
        "&=x[n] \\ast \\delta [n-n_0]- \\alpha x[n] \\ast \\delta[n-n_0-1]\\\\\n",
        "&=x[n] \\ast [\\delta (n-n_0)- \\alpha\\delta(n-n_0-1)]\n",
        "\\end{align}\n",
        "Hence,\n",
        "\\begin{align}\n",
        "\\delta (n+2)&=x[n] \\ast [\\delta(n+2)-\\alpha \\delta (n+1)]\\\\\n",
        "\\delta (n+1)&=x[n] \\ast [\\delta(n+1)-\\alpha \\delta (n)]\\\\\n",
        "\\delta (n)&=x[n] \\ast [\\delta(n)-\\alpha \\delta (n-1)]\\\\\n",
        "\\delta (n-1)&=x[n] \\ast [\\delta(n-1)-\\alpha \\delta (n-2)]\\\\\n",
        "\\end{align}\n",
        "\n",
        "Thus,\n",
        "\\begin{align}\n",
        "x[n] \\ast h[n]&=4 \\times x[n] \\ast [\\delta(n+2)-\\alpha \\delta (n+1)]\n",
        "+\n",
        "\\end{align}\n",
        "\\begin{align}\n",
        "2 \\times x[n] &\\ast [\\delta(n+1)-\\alpha \\delta (n)]\n",
        "+ x[n] \\ast [\\delta(n)-\\alpha \\delta (n-1)]\n",
        "+\\frac{1}{2}\\times x[n] \\ast [\\delta(n-1)-\\alpha \\delta (n-2)]\n",
        "\\end{align}\n",
        "This gives,\n",
        "\\begin{align}\n",
        "x[n] \\ast h[n]& = x[n]\\ast [4\\delta(n+2)-4\\alpha \\delta (n+1)+2\\delta(n+1)-2\\alpha \\delta (n)+\\delta(n)-\\alpha \\delta (n-1)+\\frac{1}{2}\\delta(n-1)-\\frac{1}{2}\\alpha \\delta (n-2)]\\\\\n",
        "&=x[n]\\ast [4\\delta(n+2)+(2-4\\alpha)\\delta (n+1)+(1-2\\alpha)\\delta(n)+(\\frac{1}{2}-\\alpha)\\delta(n-1)-\\frac{1}{2}\\delta(n-2)]\n",
        "\\end{align}\n",
        "\n",
        "This shows that,\n",
        "\\begin{align}\n",
        "h[n]=4\\delta(n+2)+(2-4\\alpha)\\delta (n+1)+(1-2\\alpha)\\delta(n)+(\\frac{1}{2}-\\alpha)\\delta(n-1)-\\frac{1}{2}\\delta(n-2)\n",
        "\\end{align}"
      ]
    },
    {
      "attachments": {},
      "cell_type": "markdown",
      "metadata": {
        "id": "Ad3meLB3yQPN"
      },
      "source": [
        "## 4. Question 5"
      ]
    },
    {
      "attachments": {},
      "cell_type": "markdown",
      "metadata": {
        "id": "UHDwzcMmybDD"
      },
      "source": [
        "\\begin{align}\n",
        "A_v=\\int_{-∞}^{∞}v(t)dt\n",
        "\\end{align}\n",
        "Since,\n",
        "\\begin{align}\n",
        "y(t)&=x(t) \\ast h(t)\\\\\n",
        "y(t)&=\\int_{-\\infty}^{\\infty} x(\\tau)h(t-\\tau)d\\tau\\\\\n",
        "\\end{align}\n",
        "By integrating both sides with respect to $t$,\n",
        "\\begin{align}\n",
        "\\int_{-\\infty}^{\\infty}y(t)dt&=\\int_{-\\infty}^{\\infty} \\int_{-\\infty}^{\\infty}x(\\tau)h(t-\\tau)d\\tau dt\\\\\n",
        "A_y&=\\int_{-\\infty}^{\\infty}x(\\tau)\\int_{-\\infty}^{\\infty}h(t-\\tau)dt d\\tau\n",
        "\\end{align}\n",
        "Let $t-\\tau =k$,\n",
        "\n",
        "Thus,\n",
        "\\begin{align}\n",
        "A_y&=\\int_{-\\infty}^{\\infty}x(\\tau)\\int_{-\\infty}^{\\infty}h(k)dk\\:\\: d\\tau\\\\\n",
        "&=\\int_{-\\infty}^{\\infty}x(\\tau)A_h d\\tau\\\\\n",
        "&=A_h\\int_{-\\infty}^{\\infty}x(\\tau) d\\tau\\\\\n",
        "&=A_hA_x\\\\\n",
        "\\end{align}\n",
        "This gives us,\n",
        "\\begin{align}\n",
        "A_y=A_xA_h\n",
        "\\end{align}"
      ]
    },
    {
      "attachments": {},
      "cell_type": "markdown",
      "metadata": {
        "id": "NewmWbdp2A3k"
      },
      "source": [
        "## 5. Question 7"
      ]
    },
    {
      "attachments": {},
      "cell_type": "markdown",
      "metadata": {
        "id": "goSp6JNk2GFe"
      },
      "source": [
        "\\begin{align}\n",
        "y[n]+2y[n-1]=x[n]\n",
        "\\end{align}\n",
        "\\\n",
        "\\begin{array}{|c|c|c|c|}\\hline\n",
        "\\text{n}&y[n]=x[n]-2y[n-1]&\\text{$y[n-1]$}&{x[n]=\\delta[n]}\\\\\n",
        "\\hline\n",
        "0&1&0&1\\\\\n",
        "\\hline\n",
        "1&-2&1&0\\\\\n",
        "\\hline\n",
        "2&4&-2&0\\\\\n",
        "\\hline\n",
        "3&-8&4&0\\\\\n",
        "\\hline\n",
        "4&16&-8&0\\\\\n",
        "\\hline\n",
        "5&32&16&0\\\\\n",
        "\\hline\n",
        "\\end{array}\n",
        "Thus,\n",
        "\\begin{align}\n",
        "h[n]=(-2)^nU[n]\n",
        "\\end{align}"
      ]
    }
  ],
  "metadata": {
    "colab": {
      "authorship_tag": "ABX9TyMz2gchAwS85ebn83D8FlP3",
      "include_colab_link": true,
      "provenance": []
    },
    "kernelspec": {
      "display_name": "Python 3",
      "name": "python3"
    },
    "language_info": {
      "name": "python"
    }
  },
  "nbformat": 4,
  "nbformat_minor": 0
}
