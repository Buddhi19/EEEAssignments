{
  "nbformat": 4,
  "nbformat_minor": 0,
  "metadata": {
    "colab": {
      "provenance": []
    },
    "kernelspec": {
      "name": "python3",
      "display_name": "Python 3"
    },
    "language_info": {
      "name": "python"
    }
  },
  "cells": [
    {
      "cell_type": "markdown",
      "source": [
        "W.M.B.S.K Wijenayke\n",
        "\n",
        "E/19/445"
      ],
      "metadata": {
        "id": "Htr8OpnesCCZ"
      }
    },
    {
      "cell_type": "markdown",
      "source": [
        "# Assignement 2"
      ],
      "metadata": {
        "id": "OaAjR56mz2UE"
      }
    },
    {
      "cell_type": "markdown",
      "source": [
        "## Libraries"
      ],
      "metadata": {
        "id": "0dw-v9Lqh3KP"
      }
    },
    {
      "cell_type": "code",
      "source": [
        "import numpy as np\n",
        "import matplotlib.pyplot as plt\n",
        "from sympy import *\n",
        "from scipy import signal\n",
        "from matplotlib import style\n",
        "%matplotlib inline  "
      ],
      "metadata": {
        "id": "-BCgYYBRh7Rz"
      },
      "execution_count": 3,
      "outputs": []
    },
    {
      "cell_type": "code",
      "source": [
        "class buddhi:\n",
        "  def coswave(self):\n",
        "    x=np.arange(-1.5,1.5,0.001)\n",
        "    y=[]\n",
        "    for val in x:\n",
        "      if -0.5<val<0.5:\n",
        "        y.append(np.cos(2*np.pi*val)+1)\n",
        "      else:\n",
        "        y.append(0)\n",
        "\n",
        "    plt.ylim(-0.2,2.5)\n",
        "    plt.xlim(-1.5,1.5)\n",
        "    plt.axhline(y=0, color='black',linewidth = 0.5)\n",
        "    plt.axvline(x=0, color='black',linewidth = 0.5)\n",
        "    plt.plot(x,y)\n",
        "\n",
        "\n",
        "  def repeatedcos(self):\n",
        "    x=[]\n",
        "    y=[]\n",
        "    for i in range(-4,5,2):\n",
        "      xx=np.arange(-1.5+i,1.5+i,0.001)\n",
        "      for val in xx:\n",
        "        x.append(val)\n",
        "        if -0.5+i<val<0.5+i:\n",
        "          y.append(np.cos(2*np.pi*val)+1)\n",
        "        else:\n",
        "          y.append(0)\n",
        "    plt.ylim(-0.2,2.5)\n",
        "    plt.xlim(-4,4)\n",
        "    plt.axhline(y=0, color='black',linewidth = 0.5)\n",
        "    plt.axvline(x=0, color='black',linewidth = 0.5)\n",
        "    plt.plot(x,y)\n",
        "\n",
        "  def square(self,shift,scale):\n",
        "    y_values=[0,0,1,1,1,0,0]\n",
        "    arr=[-2,-1,-1,0,1,1,2]\n",
        "    x_values=[(t-shift)/scale for t in arr]\n",
        "    plt.ylim(-0.2,2)\n",
        "    plt.xlim(-3,3)\n",
        "    plt.axhline(y=0, color='black',linewidth = 0.5)\n",
        "    plt.axvline(x=0, color='black',linewidth = 0.5)\n",
        "    plt.plot(x_values,y_values)\n",
        "\n",
        "  def add2waves(self):\n",
        "    y_values=[0,0,0,2,2,1,1,1,0]\n",
        "    x_values=[-2,-1,0,0,1,1,1,2,2]\n",
        "    plt.ylim(-0.2,2.5)\n",
        "    plt.xlim(-3,3)\n",
        "    plt.axhline(y=0, color='black',linewidth = 0.5)\n",
        "    plt.axvline(x=0, color='black',linewidth = 0.5)\n",
        "    plt.plot(x_values,y_values)\n",
        "\n",
        "wave=buddhi()"
      ],
      "metadata": {
        "id": "qMuNnR5qiETd"
      },
      "execution_count": 54,
      "outputs": []
    },
    {
      "cell_type": "markdown",
      "source": [
        "## Question 2."
      ],
      "metadata": {
        "id": "GCS38yynz9zi"
      }
    },
    {
      "cell_type": "markdown",
      "source": [
        "\\begin{align}\n",
        "g(t)&=\n",
        "\\begin{cases}\n",
        "1+cos(2\\pi t)\\:\\:\\:\\: for |t|\\leq 0.5\\\\\n",
        "0 \\:\\:\\:\\:\\:\\:\\:\\:\\:\\:\\:\\:\\:\\:\\:\\:\\:\\:\\:\\:\\:\\:\\:\\:\\:\\:\\:  elsewhere\n",
        "\\end{cases}\\\\\n",
        "x(t)&=\\sum_{k=-\\infty}^\\infty g(t-2k)\\\\\n",
        "\\end{align}\n",
        "Using given data,\n",
        "\\begin{align}\n",
        "T_0&=2\\\\\n",
        "\\omega_0&=\\pi\n",
        "\\end{align}\n"
      ],
      "metadata": {
        "id": "mo8N0hu10DEV"
      }
    },
    {
      "cell_type": "code",
      "source": [
        "wave.repeatedcos()"
      ],
      "metadata": {
        "colab": {
          "base_uri": "https://localhost:8080/",
          "height": 435
        },
        "id": "0oAeF00k5gO-",
        "outputId": "2f92b5e5-d589-457b-8270-2d5054119bba"
      },
      "execution_count": 28,
      "outputs": [
        {
          "output_type": "display_data",
          "data": {
            "text/plain": [
              "<Figure size 640x480 with 1 Axes>"
            ],
            "image/png": "[encoded data removed]"
          },
          "metadata": {}
        }
      ]
    },
    {
      "cell_type": "markdown",
      "source": [
        "\n",
        "Since the signal is an even signal the Fourier Series of $x(t)$,\n",
        "\\begin{align}\n",
        "x(t)=a_0+\\sum_{k=0}^{\\infty}2a_kcos(k\\omega_0t)\n",
        "\\end{align}\n",
        "where $a_k$ is the Fourier Coeffient\n"
      ],
      "metadata": {
        "id": "1gRocSzb5fLI"
      }
    },
    {
      "cell_type": "code",
      "source": [
        "wave.coswave()"
      ],
      "metadata": {
        "colab": {
          "base_uri": "https://localhost:8080/",
          "height": 435
        },
        "id": "yHxnuPix5SC8",
        "outputId": "15f9ec80-d28d-495a-e6ca-4fadfff0a2de"
      },
      "execution_count": 19,
      "outputs": [
        {
          "output_type": "display_data",
          "data": {
            "text/plain": [
              "<Figure size 640x480 with 1 Axes>"
            ],
            "image/png": "[encoded data removed]"
          },
          "metadata": {}
        }
      ]
    },
    {
      "cell_type": "markdown",
      "source": [
        "\\begin{align}\n",
        "a_k&=\\frac{1}{T_0}\\int_{T_0}x(t)cos(k\\omega_0t)dt\\\\\n",
        "&=\\frac{1}{T_0}\\int_{-0.5}^{0.5}(1+cos(2\\pi t))cos(k\\omega_0t)dt\\\\\n",
        "&=\\frac{1}{2}\\int_{-0.5}^{0.5}(1+cos(2\\pi t))cos(k\\pi t)dt\n",
        "\\end{align}\n",
        "For $k=0$,\n",
        "\\begin{align}\n",
        "a_0&=\\frac{1}{2}\\int_{-0.5}^{0.5}(1+cos(2\\pi t))cos(0)dt\\\\\n",
        "&=\\frac{1}{2}\\int_{-0.5}^{0.5}(1+cos(2\\pi t))dt\\\\\n",
        "&=\\frac{1}{2}[t+\\frac{sin(2\\pi t)}{2\\pi}]|^{0.5}_{-0.5}\\\\\n",
        "&=\\frac{1}{2}\n",
        "\\end{align}\n",
        "For $k=1$,\n",
        "\\begin{align}\n",
        "a_1&=\\frac{1}{2}\\int_{-0.5}^{0.5}(1+cos(2\\pi t))cos(\\pi t)dt\\\\\n",
        "&=\\frac{1}{2}\\int_{-0.5}^{0.5}cos(\\pi t)dt+\\frac{1}{2}\\int_{-0.5}^{0.5}cos(2\\pi t)cos(\\pi t)dt\\\\\n",
        "&=\\frac{1}{2}[sin\\frac{\\pi}{2}+sin\\frac{\\pi}{2}]+\\frac{1}{4}\\int_{-0.5}^{0.5}[cos(3\\pi t)+cos(\\pi t)]dt\\\\\n",
        "&=1+\\frac{1}{4}\\int_{-0.5}^{0.5}cos(3\\pi t)dt+\\int_{-0.5}^{0.5}cos(\\pi t)dt\\\\\n",
        "&=1+\\frac{1}{2}sin(\\frac{3\\pi}{2})+\\frac{1}{2}sin(\\frac{\\pi}{2})\\\\\n",
        "&=1\n",
        "\\end{align}\n",
        "For $k=2$,\n",
        "\\begin{align}\n",
        "a_2&=\\frac{1}{2}\\int_{-0.5}^{0.5}(1+cos(2\\pi t))cos(2\\pi t)dt\\\\\n",
        "&=\\frac{1}{2}\\int_{-0.5}^{0.5}cos(2\\pi t)dt+\\frac{1}{2}\\int_{-0.5}^{0.5}cos^2(2\\pi t)dt\\\\\n",
        "&=\\frac{1}{4}\\int_{-0.5}^{0.5}[1+cos(4\\pi t)]dt\\\\\n",
        "&=\\frac{1}{4}\n",
        "\\end{align}"
      ],
      "metadata": {
        "id": "GYRUD9p-5hyI"
      }
    },
    {
      "cell_type": "markdown",
      "source": [
        "## Question 4"
      ],
      "metadata": {
        "id": "4uye6Fy2_WkK"
      }
    },
    {
      "cell_type": "markdown",
      "source": [
        "\\begin{align}\n",
        "x(t)&=\n",
        "\\begin{cases}\n",
        "1\\:\\:\\:\\:\\:\\:\\: for \\:\\:\\:\\:\\:\\:|t|< T_1\\\\\n",
        "0 \\:\\:\\:\\:\\:\\: for\\:\\:\\:\\:\\:\\: T_1<|t|<T/2\n",
        "\\end{cases}\n",
        "\\end{align}"
      ],
      "metadata": {
        "id": "QbZc9TN3_eun"
      }
    },
    {
      "cell_type": "code",
      "source": [
        "wave.square(0,1)"
      ],
      "metadata": {
        "colab": {
          "base_uri": "https://localhost:8080/",
          "height": 435
        },
        "id": "TnwChTPl__Ak",
        "outputId": "dae8d02c-02de-46fa-ac43-3141d7e2efff"
      },
      "execution_count": 42,
      "outputs": [
        {
          "output_type": "display_data",
          "data": {
            "text/plain": [
              "<Figure size 640x480 with 1 Axes>"
            ],
            "image/png": "[encoded data removed]"
          },
          "metadata": {}
        }
      ]
    },
    {
      "cell_type": "markdown",
      "source": [
        "a.  For $X_0$,\n",
        "\\begin{align}\n",
        "X_0&=\\frac{1}{T}\\int_{T}x(t)dt\\\\\n",
        "&=\\frac{1}{T}\\int_{-T_1}^{T_1}dt\\\\\n",
        "&=\\frac{2T_1}{T}\n",
        "\\end{align}\n",
        "For $X_k$,\n",
        "\\begin{align}\n",
        "X_k&=\\frac{1}{T}\\int_{T}x(t)e^{-jk\\omega_0t}dt\\\\\n",
        "&=\\frac{1}{T}\\int_{-T_1}^{T_1}e^{-jk\\omega_0t}dt\\\\\n",
        "&=\\frac{1}{\\pi k}[\\frac{e^{jk\\omega_0T_1}-e^{-jk\\omega_0T_1}}{2j}]\\\\\n",
        "&=\\frac{1}{\\pi k}sin(k\\omega_0T_1)\n",
        "\\end{align}"
      ],
      "metadata": {
        "id": "4Qk4lz_PAGfb"
      }
    },
    {
      "cell_type": "markdown",
      "source": [
        "b. \\begin{align}\n",
        "y(t)&=\n",
        "\\begin{cases}\n",
        "1\\:\\:\\:\\:\\:\\:\\: for \\:\\:\\:\\:\\:\\:0\\leq \\:t< T_1\\\\\n",
        "0 \\:\\:\\:\\:\\:\\: for\\:\\:\\:\\:\\:\\:\\: 2\\leq\\:t<4\n",
        "\\end{cases}\n",
        "\\end{align}"
      ],
      "metadata": {
        "id": "AwX5NR2sCwWs"
      }
    },
    {
      "cell_type": "code",
      "source": [
        "wave.square(-1,1)"
      ],
      "metadata": {
        "colab": {
          "base_uri": "https://localhost:8080/",
          "height": 435
        },
        "id": "TMO9sNcgDLHZ",
        "outputId": "5af51b9c-4c06-497a-f56b-acd6e348ff5b"
      },
      "execution_count": 43,
      "outputs": [
        {
          "output_type": "display_data",
          "data": {
            "text/plain": [
              "<Figure size 640x480 with 1 Axes>"
            ],
            "image/png": "[encoded data removed]"
          },
          "metadata": {}
        }
      ]
    },
    {
      "cell_type": "markdown",
      "source": [
        "Lets take $T_1=1$ and $T=4$,\n",
        "\n",
        "Thus,\n",
        "\\begin{align}\n",
        "\\omega_0=\\frac{\\pi}{2}\n",
        "\\end{align}"
      ],
      "metadata": {
        "id": "VA-XpnTODVJV"
      }
    },
    {
      "cell_type": "markdown",
      "source": [
        "This shows,\n",
        "\\begin{align}\n",
        "y(t)&=x(t-1)\\\\\n",
        "x(t)& ⟶X_k\\\\\n",
        "y(t)& ⟶ X_ke^{-jk\\omega_0}\n",
        "\\end{align}\n",
        "Thus,\n",
        "\\begin{align}\n",
        "Y_k&=\\frac{1}{\\pi k}sin(k\\omega_0T_1)e^{-jk\\omega_0}\\\\\n",
        "&=\\frac{1}{\\pi k}sin(\\frac{k\\pi}{2})e^{\\frac{-jk\\pi}{2}}\\\\\n",
        "\\\\\n",
        "Y_0&=\\frac{1}{2}\n",
        "\\end{align}"
      ],
      "metadata": {
        "id": "Q1ScRpa3DeSE"
      }
    },
    {
      "cell_type": "markdown",
      "source": [
        "Hence the Fourier Series of $y(t)$ can be written as,\n",
        "\\begin{align}\n",
        "y(t)&=Y_0+\\sum_{\\forall k\\neq 0}Y_ke^{jk\\omega_0t}\\\\\n",
        "&=\\frac{1}{2}+\\sum_{\\forall k\\neq 0}\\frac{1}{\\pi k}sin(\\frac{k\\pi}{2})e^{\\frac{-jk\\pi}{2}}e^{\\frac{jk\\pi t}{2}}\\\\\n",
        "&=\\frac{1}{2}+\\sum_{\\forall k\\neq 0}\\frac{1}{\\pi k}sin(\\frac{k\\pi}{2})e^{\\frac{jk\\pi(t-1)}{2}}\n",
        "\\end{align}"
      ],
      "metadata": {
        "id": "JfEZ_m4CFk1O"
      }
    },
    {
      "cell_type": "markdown",
      "source": [
        "d.  $g(t)=y(2t)$"
      ],
      "metadata": {
        "id": "vdR0c_tDG2MI"
      }
    },
    {
      "cell_type": "code",
      "source": [
        "wave.square(-1,2)"
      ],
      "metadata": {
        "colab": {
          "base_uri": "https://localhost:8080/",
          "height": 435
        },
        "id": "bHqkfJdHHELR",
        "outputId": "4f47b93a-47c5-4f64-db91-ed9edbd74c80"
      },
      "execution_count": 44,
      "outputs": [
        {
          "output_type": "display_data",
          "data": {
            "text/plain": [
              "<Figure size 640x480 with 1 Axes>"
            ],
            "image/png": "[encoded data removed]"
          },
          "metadata": {}
        }
      ]
    },
    {
      "cell_type": "markdown",
      "source": [
        "By Fourier Series property,\n",
        "\\\n",
        "New fundamental frequency $=2\\times \\frac{\\pi}{2}=\\pi$\n",
        "\n",
        "Fourier Series coefficients do not change due to scaling,\n",
        "\n",
        "Thus,\n",
        "\\begin{align}\n",
        "G_k&=Y_k\\\\\n",
        "&=\\frac{1}{\\pi k}sin(\\frac{k\\pi}{2})e^{\\frac{-jk\\pi}{2}}\n",
        "\\end{align}"
      ],
      "metadata": {
        "id": "RM4yXfadHIEB"
      }
    },
    {
      "cell_type": "markdown",
      "source": [
        "e. $m(t)=y(t)+g(t)$"
      ],
      "metadata": {
        "id": "TWeFt_gxH8AI"
      }
    },
    {
      "cell_type": "code",
      "source": [
        "wave.add2waves()"
      ],
      "metadata": {
        "colab": {
          "base_uri": "https://localhost:8080/",
          "height": 435
        },
        "id": "PimIIzW2I5K8",
        "outputId": "62fe296f-4e2d-47d4-f643-5775b3e16503"
      },
      "execution_count": 55,
      "outputs": [
        {
          "output_type": "display_data",
          "data": {
            "text/plain": [
              "<Figure size 640x480 with 1 Axes>"
            ],
            "image/png": "[encoded data removed]"
          },
          "metadata": {}
        }
      ]
    },
    {
      "cell_type": "markdown",
      "source": [
        "since the fundermental frequencies are different we can't just add them but,\n",
        "\\begin{align}\n",
        "g(t)&=\\sum_{∀k}G_ke^{jk\\pi t}\\\\\n",
        "&=\\sum_{∀k}G_ke^{j(2k)\\frac{\\pi}{2} t}\\\\\n",
        "\\end{align}\n",
        "Considering obtained formulea it has values when only $k$ is even.\n",
        "\n",
        "Thus,\n",
        "\\begin{align}\n",
        "M_k=\n",
        "\\begin{cases}\n",
        "Y_k+G_k\\:\\:\\:\\:\\: for\\:\\:\\:\\:even\\:\\:\\:\\:k\\\\\n",
        "Y_k\\:\\:\\:\\:\\: \\:\\:\\:\\:\\: elsewhere\n",
        "\\end{cases}\n",
        "\\end{align}"
      ],
      "metadata": {
        "id": "_5_xm6FAI5iW"
      }
    },
    {
      "cell_type": "markdown",
      "source": [
        "## Question 5"
      ],
      "metadata": {
        "id": "icZXzV-tLQga"
      }
    },
    {
      "cell_type": "markdown",
      "source": [
        "a. For $x'(t)$,\n",
        "\\begin{align}\n",
        "x'(t)&=\n",
        "\\begin{cases}\n",
        "0 &&  t<-\\frac{1}{2}\\\\\n",
        "1 &&  -\\frac{1}{2}\\leq t \\leq \\frac{1}{2}\\\\\n",
        "0 &&  t>\\frac{1}{2}\\\\\n",
        "\\end{cases}\n",
        "\\end{align}"
      ],
      "metadata": {
        "id": "tR5PGaeVLz_c"
      }
    },
    {
      "cell_type": "markdown",
      "source": [
        "Fourier Transform of $x'(t)$,\n",
        "\\begin{align}\n",
        "\\mathcal{F}x'(t)&=\\int_{-\\infty}^{\\infty}x(t)e^{-j\\omega t}dt\\\\\n",
        "X'(jw)&=\\int_{-\\frac{1}{2}}^{\\frac{1}{2}}e^{-j\\omega t}dt\\\\\n",
        "&=\\frac{e^{j\\frac{w}{2}}-e^{-j\\frac{w}{2}}}{jw}\\\\\n",
        "&=2\\frac{sin(\\frac{w}{2})}{w}\n",
        "\\end{align}"
      ],
      "metadata": {
        "id": "boA7xE0CNEqD"
      }
    },
    {
      "cell_type": "markdown",
      "source": [
        "b. Thus the Fourier Transform of $x(t)$,\n",
        "\\begin{align}\n",
        "\\mathcal{F}x(t)&=\\frac{X'(jw)}{jw}\\\\\n",
        "X(jw)&=-2j\\frac{sin(\\frac{w}{2})}{w^2}\n",
        "\\end{align}"
      ],
      "metadata": {
        "id": "yE7nfa2cQstJ"
      }
    },
    {
      "cell_type": "markdown",
      "source": [
        "c.\n",
        "Fourier Transform of $y'(t)$,\n",
        "\\begin{align}\n",
        "\\mathcal{F}y'(t)&=\\int_{-\\infty}^{\\infty}y(t)e^{-j\\omega t}dt\\\\\n",
        "Y'(jw)&=\\int_{-\\frac{1}{2}}^{\\frac{1}{2}^-}e^{-j\\omega t}dt-\\frac{1}{2}\\int_{\\frac{1}{2}^-}^{\\frac{1}{2}^+}\\delta{(t-\\frac{1}{2})}e^{-j\\omega t}dt\\\\\n",
        "&=\\frac{e^{j\\omega}-e^{-j\\omega}}{jw}-\\frac{1}{2}e^{-jw/2}\\\\\n",
        "&=2\\frac{sinw}{w}-\\frac{1}{2}e^{-jw/2}\n",
        "\\end{align}"
      ],
      "metadata": {
        "id": "5AyqWmkaRLa3"
      }
    },
    {
      "cell_type": "markdown",
      "source": [
        "d. Thus the Fourier Transform of $y(t)$,\n",
        "\n",
        "\\begin{align}\n",
        "\\mathcal{F}y(t)&=\\frac{Y'(jw)}{jw}\\\\\n",
        "Y(jw)&=-2j\\frac{sin(\\frac{w}{2})}{w^2}+\\frac{j}{2}e^{-jw/2}\n",
        "\\end{align}"
      ],
      "metadata": {
        "id": "RhcMzUMJUXH0"
      }
    },
    {
      "cell_type": "markdown",
      "source": [
        "e.\n",
        "\\begin{align}\n",
        "\\mathcal{F}g(t)&=\\mathcal{F}x(t)-\\frac{1}{2}\\mathcal{F}(1)\\\\\n",
        "G(jw)&=X(jw)-\\frac{1}{2}2\\pi \\delta(w)\\\\\n",
        "&=-2j\\frac{sin(\\frac{w}{2})}{w^2}-\\pi \\delta(w)\n",
        "\\end{align}"
      ],
      "metadata": {
        "id": "BNG0mhfUVCY7"
      }
    },
    {
      "cell_type": "markdown",
      "source": [
        "## Question 6"
      ],
      "metadata": {
        "id": "_w-vBQOaV5Rp"
      }
    },
    {
      "cell_type": "markdown",
      "source": [
        "a.\n",
        "\\begin{align}\n",
        "\\mathcal{F}x(t)&=X(jw)\\\\\n",
        "X(jw)&=\\int_{-\\infty}^{\\infty}x(t)e^{-j\\omega t}dt\\\\\n",
        "\\end{align}\n",
        "By diffrentiating with respect to $\\omega$,\n",
        "\\begin{align}\n",
        "\\frac{d}{d\\omega}X(jw)&=\\int_{-\\infty}^{\\infty}x(t)\\frac{d}{d\\omega}e^{-j\\omega t}dt\\\\\n",
        "&=\\int_{-\\infty}^{\\infty}x(t)(-jt)e^{-j\\omega t}dt\\\\\n",
        "\\frac{d}{d\\omega}X(jw)&=\\mathcal{F}x(t)(-jt)\\\\\n",
        "\\mathcal{F}^{-1}[\\frac{d}{d\\omega}X(jw)]&=(-jt)x(t)\n",
        "\\end{align}"
      ],
      "metadata": {
        "id": "wtMOSe3hWwaZ"
      }
    },
    {
      "cell_type": "markdown",
      "source": [
        "b.\n",
        "\\begin{align}\n",
        "X(jw)&=\\int_{-∞}^{∞}x(t)e^{-j\\omega t}dt\\\\\n",
        "&=\\int_{-∞}^{∞}e^{-|t|}e^{-j\\omega t}dt\\\\\n",
        "&=\\int_{-∞}^{0}e^{t}e^{-j\\omega t}dt+\\int_{0}^{∞}e^{-t}e^{-j\\omega t}dt\\\\\n",
        "&=\\frac{1-0}{1-jw}-\\frac{0-1}{1+jw}\\\\\n",
        "&=\\frac{2}{1+w^2}\n",
        "\\end{align}"
      ],
      "metadata": {
        "id": "ZxEQkrtcaPrg"
      }
    },
    {
      "cell_type": "markdown",
      "source": [
        "c.\n",
        "\\begin{align}\n",
        "\\frac{d}{d\\omega}X(jw)&=\\mathcal{F}x(t)(-jt)\\\\\n",
        "\\mathcal{F}[e^{-|t|}(-jt)]&=\\frac{d}{d\\omega}\\frac{2}{1+w^2}\\\\\n",
        "&=\\frac{-4w}{(1+w^2)^2}\\\\\n",
        "-j\\mathcal{F}[e^{-|t|}(-jt)]&=-j\\frac{-4w}{(1+w^2)^2}\\\\\n",
        "\\mathcal{F}[te^{-|t|}]&=\\frac{4jw}{(1+w^2)^2}\n",
        "\\end{align}"
      ],
      "metadata": {
        "id": "wjJblH2WcHg_"
      }
    },
    {
      "cell_type": "markdown",
      "source": [
        "d.\n",
        "\\begin{align}\n",
        "\\mathcal{F}\\frac{4jt}{(1+t^2)^2}&=2\\pi (-we^{-|w|})\\\\\n",
        "\\mathcal{F}\\frac{4t}{(1+t^2)^2}&=-2j\\pi (-we^{-|w|})\\\\\n",
        "&=2j\\pi w e^{-|w|}\n",
        "\\end{align}"
      ],
      "metadata": {
        "id": "c5dwR_Twdn2U"
      }
    }
  ]
}